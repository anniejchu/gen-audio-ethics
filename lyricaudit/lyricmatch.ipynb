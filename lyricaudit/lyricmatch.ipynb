{
 "cells": [
  {
   "cell_type": "code",
   "execution_count": null,
   "metadata": {},
   "outputs": [],
   "source": [
    "# Importing Dependencies\n",
    "from lyricsgenius import Genius #uses BeautifulSoup, should think about use\n",
    "import pprint as j\n",
    "import api_key #importing api_key.py file that holds my personal client access token"
   ]
  },
  {
   "cell_type": "code",
   "execution_count": null,
   "metadata": {},
   "outputs": [],
   "source": [
    "# Initiating Genius API\n",
    "token = api_key.client_access_token\n",
    "genius = Genius(token, remove_section_headers = True) \n",
    "\n",
    "# # Turn off status messages\n",
    "# genius.verbose = False\n",
    "\n",
    "# # Remove section headers (e.g. [Chorus]) from lyrics when searching\n",
    "# genius.remove_section_headers = True\n",
    "\n",
    "# # Include hits thought to be non-songs (e.g. track lists)\n",
    "# genius.skip_non_songs = False\n",
    "\n",
    "# # Exclude songs with these words in their title\n",
    "# genius.excluded_terms = [\"(Remix)\", \"(Live)\"]"
   ]
  },
  {
   "cell_type": "markdown",
   "metadata": {},
   "source": [
    "##### Searching for multiple songs by lyric query"
   ]
  },
  {
   "cell_type": "code",
   "execution_count": null,
   "metadata": {},
   "outputs": [],
   "source": [
    "def search_song_by_lyric(lyric_query, return_lyrics=False):\n",
    "    \"\"\"\n",
    "    Search for songs by a given lyric query and return the hits.\n",
    "\n",
    "    Args:\n",
    "    - lyric_query (str): The lyric query to search for.\n",
    "    - return_lyrics (bool): Whether to include full lyrics in the results. Defaults to False. If True, takes a little longer\n",
    "\n",
    "    Returns:\n",
    "    - hits (list): Returns songs that match the query (sorted by Popularity) / List of dictionaries containing information about each hit (song).\n",
    "    \"\"\"\n",
    "    request = genius.search_lyrics(lyric_query)\n",
    "    hits = []\n",
    "    for hit in request['sections'][0]['hits']:\n",
    "        lyric_url = hit['result']['url']\n",
    "        hit_info = {\n",
    "            'genius_id': hit['result']['id'],\n",
    "            'song': hit['result']['title'],\n",
    "            'artists': hit['result']['artist_names'],\n",
    "            'full_song_title': hit['result']['full_title'],\n",
    "            'lyric_match': hit['highlights'][0]['value'],\n",
    "            'full_lyrics_url': lyric_url,\n",
    "        }\n",
    "        if return_lyrics:\n",
    "            hit_info['full_lyrics'] = genius.lyrics(song_url=lyric_url)\n",
    "        hits.append(hit_info)\n",
    "    return hits"
   ]
  },
  {
   "cell_type": "code",
   "execution_count": null,
   "metadata": {},
   "outputs": [],
   "source": [
    "# Return all songs' lyrics (if return_lyrics = True)\n",
    "\n",
    "# Lyric Query as str - (from: Can We Talk? by Tevin Campbell)\n",
    "lyric_query = 'And just like a Roni' \n",
    "\n",
    "# searching for songs based on lyric query....saving them in variable 'hits'\n",
    "hits = search_song_by_lyric(lyric_query, return_lyrics = False) #change to TRUE to return lyrics of all hits\n",
    "\n",
    "# Show top hit song's info (most popular / likely)\n",
    "hits[0] "
   ]
  },
  {
   "cell_type": "code",
   "execution_count": null,
   "metadata": {},
   "outputs": [],
   "source": [
    "# Alternate: Return just top song's (single song) lyrics \n",
    "\n",
    "lyric_query = 'And just like a Roni' #from: Can We Talk? by Tevin Campbell\n",
    "hits = search_song_by_lyric(lyric_query, return_lyrics = False) #change to TRUE to return lyrics of all hits\n",
    "\n",
    "#Getting Top Hit\n",
    "top_songName = hits[0]['song']\n",
    "top_songArtist = hits[0]['artists']\n",
    "\n",
    "song_matched = genius.search_song(top_songName, top_songArtist)\n",
    "\n",
    "# print(song_matched.artist)\n",
    "# print(song_matched.title)\n",
    "# print(song_matched.lyrics)\n",
    "\n",
    "# Then can save lyrics: \n",
    "#song_matched.save_lyrics(filename=None, extension='json', overwrite=False, ensure_ascii=True, sanitize=True, verbose=True)"
   ]
  },
  {
   "cell_type": "markdown",
   "metadata": {},
   "source": [
    "##### Getting Song Metadata (includes copyright, other credits / attribution, etc)\n",
    "TODO: Clean up / dig into"
   ]
  },
  {
   "cell_type": "code",
   "execution_count": null,
   "metadata": {},
   "outputs": [],
   "source": [
    "# Getting the ID of the top hit (single song)\n",
    "top_hit_id = hits[0]['genius_id']\n",
    "\n",
    "# Fetching full information about the top hit song // Ref: https://docs.genius.com/#songs-h2\n",
    "top_hit_full_info = genius.song(song_id=top_hit_id)\n",
    "\n",
    "# Getting basic song info\n",
    "basic_song_info = top_hit_full_info['song']\n",
    "# print(basic_song_info)  # Entire basic song info\n",
    "# print(basic_song_info['title'])  # Title of the song\n",
    "# print(basic_song_info['artist_names'])  # Names of the artists\n",
    "# print(basic_song_info['release_date'])  # Release date of the song\n",
    "# print(basic_song_info['recording_location'])  # Recording location of the song\n",
    "\n",
    "# Accessing album information if available\n",
    "album_info = basic_song_info['album']\n",
    "print(album_info)  # Entire album info\n",
    "\n",
    "# *** Getting other important song credits! Includes copyright / label info ****\n",
    "song_credits = top_hit_full_info['song']['custom_performances']\n",
    "# print(song_credits)  # Dictionary of song credits\n",
    "\n",
    "# Accessing relevant people involved in the song\n",
    "# print(top_hit_full_info['song']['featured_artists'])  # Featured artists\n",
    "# print(top_hit_full_info['song']['primary_artist'])  # Primary artist\n",
    "# print(top_hit_full_info['song']['producer_artists'])  # Producer artists\n",
    "# print(top_hit_full_info['song']['writer_artists'])  # Writer artists\n",
    "\n",
    "# Accessing song relationships such as samples, interpolations, etc.\n",
    "# print(top_hit_full_info['song']['song_relationships'])  # Song relationships\n"
   ]
  },
  {
   "cell_type": "code",
   "execution_count": null,
   "metadata": {},
   "outputs": [],
   "source": [
    "# Scrap: Digging into song credits / attribution\n",
    "xtra_credits = top_hit_full_info['song']['custom_performances']\n",
    "# j.pprint(xtra_credits)\n",
    "# for item in xtra_credits:\n",
    "#     if item['label'] == 'Copyright ©':\n",
    "#         artists = item['artists']\n",
    "#         for artist in artists:\n",
    "#             print(\"Name:\", artist['name'])\n",
    "#             print(\"URL:\", artist['url'])\n",
    "\n",
    "for item in xtra_credits:\n",
    "    label = item['label']\n",
    "    artists = item['artists']\n",
    "    print(\"Label:\", label)\n",
    "    for artist in artists:\n",
    "        print(\"\\tName:\", artist['name'])\n",
    "        print(\"\\tID:\", artist['id'])\n",
    "        print(\"\\tURL:\", artist['url'])\n"
   ]
  },
  {
   "cell_type": "code",
   "execution_count": null,
   "metadata": {},
   "outputs": [],
   "source": [
    "def extract_attribution_info(performance_list):\n",
    "    performances_dict = {}\n",
    "\n",
    "    for item in performance_list:\n",
    "        label = item['label']\n",
    "        artists = item['artists']\n",
    "        artists_info = []\n",
    "\n",
    "        for artist in artists:\n",
    "            artist_info = (artist['name'], artist['id'], artist['url']) #dict of lists\n",
    "            # artist_info = {'name': artist['name'], 'id': artist['id'], 'url': artist['url']} #dict of dicts\n",
    "            artists_info.append(artist_info)\n",
    "\n",
    "        performances_dict[label] = artists_info\n",
    "\n",
    "    return performances_dict\n",
    "\n",
    "\n",
    "xtra_credits = top_hit_full_info['song']['custom_performances']\n",
    "performances_info = extract_attribution_info(xtra_credits)\n",
    "j.pprint(performances_info)\n"
   ]
  },
  {
   "cell_type": "code",
   "execution_count": null,
   "metadata": {},
   "outputs": [],
   "source": [
    "# Scrap Function / ignore\n",
    "\n",
    "## Function to search song by lyric\n",
    "lyric_query = 'And just like a Roni'\n",
    "\n",
    "request = genius.search_lyrics(lyric_query) #only returns type=='lyric', equivalent to genius.search('[query]', type_='lyric')\n",
    "#for each search result\n",
    "\n",
    "# j.pprint(request)\n",
    "for hit in request['sections'][0]['hits']: #request['sections']= 1\n",
    "    # j.pprint(hit) #helpful to see everything the return gives\n",
    "\n",
    "    # print(hit['result']['full_title']) #returns full title, can also return just song name by replacing ['full_title'] w/ ['title']\n",
    "    print(hit['highlights'][0]['value']) #returns window where search term matches\n",
    "#     print('----')\n"
   ]
  },
  {
   "cell_type": "code",
   "execution_count": null,
   "metadata": {},
   "outputs": [],
   "source": []
  }
 ],
 "metadata": {
  "kernelspec": {
   "display_name": "base",
   "language": "python",
   "name": "python3"
  },
  "language_info": {
   "codemirror_mode": {
    "name": "ipython",
    "version": 3
   },
   "file_extension": ".py",
   "mimetype": "text/x-python",
   "name": "python",
   "nbconvert_exporter": "python",
   "pygments_lexer": "ipython3",
   "version": "3.11.5"
  }
 },
 "nbformat": 4,
 "nbformat_minor": 2
}
